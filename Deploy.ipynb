{
 "cells": [
  {
   "cell_type": "code",
   "execution_count": 3,
   "id": "c1d8f9e6",
   "metadata": {},
   "outputs": [
    {
     "name": "stdout",
     "output_type": "stream",
     "text": [
      "Overwriting fall.py\n"
     ]
    }
   ],
   "source": [
    "%%writefile fall.py\n",
    "\n",
    "import pandas as pd\n",
    "import joblib as jb\n",
    "import streamlit as st\n",
    "import sklearn\n",
    "# Load your data, encoder, scaler, and model here\n",
    "df_result = jb.load('selector_result.pkl')\n",
    "encoder = jb.load('Encoder.pkl')\n",
    "scalar = jb.load('Scaler.pkl')\n",
    "model = jb.load('Model.pkl')\n",
    "\n",
    "def Predict_Rainfall(Location, MinTemp, MaxTemp, Rainfall, Evaporation, Sunshine, WindGustDir, WindGustSpeed, WindDir9am, RISK_MM):\n",
    "    data = pd.DataFrame(columns=df_result.columns)\n",
    "    data.at[0, 'Location'] = Location\n",
    "    data.at[0, 'MinTemp'] = MinTemp\n",
    "    data.at[0, 'MaxTemp'] = MaxTemp\n",
    "    data.at[0, 'Rainfall'] = Rainfall\n",
    "    data.at[0, 'Evaporation'] = Evaporation\n",
    "    data.at[0, 'Sunshine'] = Sunshine\n",
    "    data.at[0, 'WindGustDir'] = WindGustDir\n",
    "    data.at[0, 'WindGustSpeed'] = WindGustSpeed\n",
    "    data.at[0, 'WindDir9am'] = WindDir9am\n",
    "    data.at[0, 'RISK_MM'] = RISK_MM\n",
    "\n",
    "    # Encoding and scaling\n",
    "    data['Location'] = encoder.transform(data[['Location']])\n",
    "    data['WindGustDir'] = encoder.transform(data[['WindGustDir']])\n",
    "    data['WindDir9am'] = encoder.transform(data[['WindDir9am']])\n",
    "\n",
    "\n",
    "    data[df_result.columns] = scalar.transform(data[df_result.columns])\n",
    "\n",
    "    # Predict rainfall\n",
    "    result = model.predict(data)\n",
    "    return result\n",
    "page_icon_url = 'download.ipg'\n",
    "\n",
    "st.set_page_config(\n",
    "    page_icon=page_icon_url,\n",
    "    page_title='Rainfall Prediction'\n",
    ")\n",
    "\n",
    "def main():\n",
    "\n",
    "    Location = st.selectbox('Location',['Albury', 'BadgerysCreek', 'Cobar', 'CoffsHarbour', 'Moree',\n",
    "       'Newcastle', 'NorahHead', 'NorfolkIsland', 'Penrith', 'Richmond',\n",
    "       'Sydney', 'SydneyAirport', 'WaggaWagga', 'Williamtown',\n",
    "       'Wollongong', 'Canberra', 'Tuggeranong', 'MountGinini', 'Ballarat',\n",
    "       'Bendigo', 'Sale', 'MelbourneAirport', 'Melbourne', 'Mildura',\n",
    "       'Nhil', 'Portland', 'Watsonia', 'Dartmoor', 'Brisbane', 'Cairns',\n",
    "       'GoldCoast', 'Townsville', 'Adelaide', 'MountGambier', 'Nuriootpa',\n",
    "       'Woomera', 'Albany', 'Witchcliffe', 'PearceRAAF', 'PerthAirport',\n",
    "       'Perth', 'SalmonGums', 'Walpole', 'Hobart', 'Launceston',\n",
    "       'AliceSprings', 'Darwin', 'Katherine', 'Uluru'])\n",
    "    MinTemp = st.number_input('MinTemp', min_value=0.0)\n",
    "    MaxTemp = st.number_input('MaxTemp', min_value=0.0)\n",
    "    Rainfall = st.number_input('Rainfall', min_value=0.0)\n",
    "    Evaporation = st.number_input('Evaporation', min_value=0.0)\n",
    "    Sunshine = st.number_input('Sunshine', min_value=0.0)\n",
    "    WindGustDir = st.selectbox('WindGustDir',['N', 'NNE', 'NE', 'ENE', 'E', 'ESE', 'SE', 'SSE', 'S', 'SSW', 'SW', 'WSW', 'W', 'WNW', 'NW', 'NNW'])\n",
    "    WindGustSpeed = st.number_input('WindGustSpeed', min_value=0.0)\n",
    "    WindDir9am = st.selectbox('WindDir9am',['N', 'NNE', 'NE', 'ENE', 'E', 'ESE', 'SE', 'SSE', 'S', 'SSW', 'SW', 'WSW', 'W', 'WNW', 'NW', 'NNW'])\n",
    "    RISK_MM = st.number_input('RISK_MM', min_value=0.0)\n",
    "\n",
    "    if st.button('Predict Rainfall'):\n",
    "        rainfall = Predict_Rainfall(Location, MinTemp, MaxTemp, Rainfall, Evaporation, Sunshine, WindGustDir, WindGustSpeed, WindDir9am, RISK_MM)\n",
    "        st.write(f'Predicted Rainfall: {rainfall[0]} mm')\n",
    "\n",
    "if __name__ == '__main__':\n",
    "    main()\n"
   ]
  },
  {
   "cell_type": "code",
   "execution_count": null,
   "id": "f583db08",
   "metadata": {},
   "outputs": [],
   "source": [
    "!streamlit run fall.py\n"
   ]
  },
  {
   "cell_type": "code",
   "execution_count": null,
   "id": "d69f7038",
   "metadata": {},
   "outputs": [],
   "source": []
  },
  {
   "cell_type": "code",
   "execution_count": null,
   "id": "36b9b8e8",
   "metadata": {},
   "outputs": [],
   "source": []
  }
 ],
 "metadata": {
  "kernelspec": {
   "display_name": "Python 3 (ipykernel)",
   "language": "python",
   "name": "python3"
  },
  "language_info": {
   "codemirror_mode": {
    "name": "ipython",
    "version": 3
   },
   "file_extension": ".py",
   "mimetype": "text/x-python",
   "name": "python",
   "nbconvert_exporter": "python",
   "pygments_lexer": "ipython3",
   "version": "3.9.18"
  }
 },
 "nbformat": 4,
 "nbformat_minor": 5
}
